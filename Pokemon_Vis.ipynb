{
 "cells": [
  {
   "cell_type": "markdown",
   "id": "6146191b",
   "metadata": {},
   "source": [
    "# Univariate Visualization "
   ]
  },
  {
   "cell_type": "markdown",
   "id": "e1cc6a7f",
   "metadata": {},
   "source": [
    "* **Bar Charts**: A bar chart depicts the distribution of a categorical variable. In a bar chart, each level of the categorical variable is depicted with a bar, whose height indicates the frequency of data points that take on that level."
   ]
  },
  {
   "cell_type": "code",
   "execution_count": null,
   "id": "dbc56d9d",
   "metadata": {},
   "outputs": [],
   "source": []
  }
 ],
 "metadata": {
  "kernelspec": {
   "display_name": "Python 3 (ipykernel)",
   "language": "python",
   "name": "python3"
  },
  "language_info": {
   "codemirror_mode": {
    "name": "ipython",
    "version": 3
   },
   "file_extension": ".py",
   "mimetype": "text/x-python",
   "name": "python",
   "nbconvert_exporter": "python",
   "pygments_lexer": "ipython3",
   "version": "3.10.9"
  }
 },
 "nbformat": 4,
 "nbformat_minor": 5
}
